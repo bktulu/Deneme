{
 "cells": [
  {
   "cell_type": "markdown",
   "metadata": {},
   "source": [
    "1.İçerisinde 7 günün bulunduğu bir sözlük oluşturun. Kullanıcıya günleri listeleyerek 2 farklı gün seçmesini isteyin (örneğin pazartesi ve salı için \"12\" gibi). Kullanıcının seçtiği günleri sözlükten silerek kalan 5 günü ekrana yazdırın."
   ]
  },
  {
   "cell_type": "code",
   "execution_count": 1,
   "metadata": {},
   "outputs": [
    {
     "name": "stdout",
     "output_type": "stream",
     "text": [
      "{'1': 'Pazartesi', '2': 'Salı', '3': 'Çarşamba', '4': 'Perşembe', '5': 'Cuma', '6': 'Cumartesi', '7': 'Pazar'}\n",
      "Silmek istediğiniz 2 günü seçiniz.\n",
      "İlk seçiminiz:1\n",
      "İkinci seçiminiz:2\n",
      "Kalan günler : \n",
      "['Çarşamba', 'Perşembe', 'Cuma', 'Cumartesi', 'Pazar'] \n",
      "\n"
     ]
    }
   ],
   "source": [
    "günler = {\n",
    "    \"1\":\"Pazartesi\",\n",
    "    \"2\":\"Salı\",\n",
    "    \"3\":\"Çarşamba\",\n",
    "    \"4\":\"Perşembe\",\n",
    "    \"5\":\"Cuma\",\n",
    "    \"6\":\"Cumartesi\",\n",
    "    \"7\":\"Pazar\"\n",
    "}\n",
    "\n",
    "print(günler)\n",
    "\n",
    "print(\"Silmek istediğiniz 2 günü seçiniz.\")\n",
    "\n",
    "x1 = input(\"İlk seçiminiz:\")\n",
    "x2 = input(\"İkinci seçiminiz:\")\n",
    "\n",
    "del günler[x1]\n",
    "del günler[x2]\n",
    "\n",
    "print(\"Kalan günler : \")\n",
    "print(list(günler.values()),'\\n')"
   ]
  },
  {
   "cell_type": "markdown",
   "metadata": {},
   "source": [
    "2.Ayların kaç gün çektiğini karıştırabiliyoruz. Bunun için bir liste oluşturun ancak listenizde ay isimleri ve gün sayıları beraber bulunsun (ipucu: listenizin içinde başka bir veri yapısı yer alacak!)."
   ]
  },
  {
   "cell_type": "code",
   "execution_count": 2,
   "metadata": {},
   "outputs": [
    {
     "name": "stdout",
     "output_type": "stream",
     "text": [
      "[('Ocak', 31), ('Şubat', 28), ('Mart', 31), ('Nisan', 30), ('Mayıs', 31), ('Haziran', 30), ('Temmuz', 31), ('Ağustos', 31), ('Eylül', 30), ('Ekim', 31), ('Kasım', 30), ('Aralık', 31)] \n",
      "\n"
     ]
    }
   ],
   "source": [
    "ay_list = {\n",
    "    \"Ocak\":31,\n",
    "    \"Şubat\":28,\n",
    "    \"Mart\":31,\n",
    "    \"Nisan\":30,\n",
    "    \"Mayıs\":31,\n",
    "    \"Haziran\":30,\n",
    "    \"Temmuz\":31,\n",
    "    \"Ağustos\":31,\n",
    "    \"Eylül\":30,\n",
    "    \"Ekim\":31,\n",
    "    \"Kasım\":30,\n",
    "    \"Aralık\":31,\n",
    "}\n",
    "print(list(ay_list.items()),'\\n')"
   ]
  },
  {
   "cell_type": "markdown",
   "metadata": {},
   "source": [
    "3.Bilgileri bir önceki listeden alan başka bir ay listesi oluşturun. Bu kez ayları günlerle birlikte listenin içinde iki ayrı listede tutun."
   ]
  },
  {
   "cell_type": "code",
   "execution_count": 3,
   "metadata": {},
   "outputs": [
    {
     "name": "stdout",
     "output_type": "stream",
     "text": [
      "[['Ocak', 'Şubat', 'Mart', 'Nisan', 'Mayıs', 'Haziran', 'Temmuz', 'Ağustos', 'Eylül', 'Ekim', 'Kasım', 'Aralık'], [31, 28, 31, 30, 31, 30, 31, 31, 30, 31, 30, 31]]\n"
     ]
    }
   ],
   "source": [
    "aylar = list(ay_list.keys())\n",
    "günler = list(ay_list.values())\n",
    "\n",
    "ay = []\n",
    "\n",
    "ay.append(aylar)\n",
    "ay.append(günler)\n",
    "\n",
    "print(ay)"
   ]
  },
  {
   "cell_type": "markdown",
   "metadata": {},
   "source": [
    "4.Şimdi ise mevsim mevsim ayrılmış ay listeleri oluşturun. Liste adlarına mevsimlerin adlarını verin."
   ]
  },
  {
   "cell_type": "code",
   "execution_count": 4,
   "metadata": {},
   "outputs": [],
   "source": [
    "mevsimler = {\n",
    "    \"ilkbahar\":{\"Mart\":31,\n",
    "                  \"Nisan\":30,\n",
    "                  \"Mayıs\":31},\n",
    "    \"yaz\" : {\"Haziran\":30,\n",
    "             \"Temmuz\":31,\n",
    "             \"Ağustos\":31},\n",
    "    \"sonbahar\" : {\"Eylül\":30,\n",
    "                  \"Ekim\":31,\n",
    "                  \"Kasım\":30,},\n",
    "    \"kış\" : {\"Aralık\":31,\n",
    "             \"Ocak\":31,\n",
    "             \"Şubat\":28}\n",
    "}"
   ]
  },
  {
   "cell_type": "markdown",
   "metadata": {},
   "source": [
    "5.Son olarak, bir önceki sorudaki listeden yaz ayının kaç gün sürdüğünü hesaplayın."
   ]
  },
  {
   "cell_type": "code",
   "execution_count": 5,
   "metadata": {},
   "outputs": [
    {
     "name": "stdout",
     "output_type": "stream",
     "text": [
      "92\n"
     ]
    }
   ],
   "source": [
    "x = list(mevsimler[\"yaz\"].values())\n",
    "\n",
    "toplam = x[0] + x[1] + x[2]\n",
    "\n",
    "print(toplam)"
   ]
  }
 ],
 "metadata": {
  "kernelspec": {
   "display_name": "Python 3",
   "language": "python",
   "name": "python3"
  },
  "language_info": {
   "codemirror_mode": {
    "name": "ipython",
    "version": 3
   },
   "file_extension": ".py",
   "mimetype": "text/x-python",
   "name": "python",
   "nbconvert_exporter": "python",
   "pygments_lexer": "ipython3",
   "version": "3.7.4"
  }
 },
 "nbformat": 4,
 "nbformat_minor": 2
}
